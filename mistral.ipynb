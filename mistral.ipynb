{
  "nbformat": 4,
  "nbformat_minor": 0,
  "metadata": {
    "colab": {
      "provenance": [],
      "authorship_tag": "ABX9TyO4ypxBzwq4DlQXwKFqm8im",
      "include_colab_link": true
    },
    "kernelspec": {
      "name": "python3",
      "display_name": "Python 3"
    },
    "language_info": {
      "name": "python"
    }
  },
  "cells": [
    {
      "cell_type": "markdown",
      "metadata": {
        "id": "view-in-github",
        "colab_type": "text"
      },
      "source": [
        "<a href=\"https://colab.research.google.com/github/NAMITHA-L/deepseek-llm-1.3b-chat/blob/main/mistral.ipynb\" target=\"_parent\"><img src=\"https://colab.research.google.com/assets/colab-badge.svg\" alt=\"Open In Colab\"/></a>"
      ]
    },
    {
      "cell_type": "code",
      "execution_count": 22,
      "metadata": {
        "colab": {
          "base_uri": "https://localhost:8080/"
        },
        "collapsed": true,
        "id": "9Sl1SQBLXtRj",
        "outputId": "ab78b155-15b8-488a-851d-9c2f26ff66da"
      },
      "outputs": [
        {
          "output_type": "stream",
          "name": "stdout",
          "text": [
            "Requirement already satisfied: together in /usr/local/lib/python3.11/dist-packages (1.5.21)\n",
            "Requirement already satisfied: aiohttp<4.0.0,>=3.9.3 in /usr/local/lib/python3.11/dist-packages (from together) (3.11.15)\n",
            "Requirement already satisfied: click<9.0.0,>=8.1.7 in /usr/local/lib/python3.11/dist-packages (from together) (8.1.8)\n",
            "Requirement already satisfied: eval-type-backport<0.3.0,>=0.1.3 in /usr/local/lib/python3.11/dist-packages (from together) (0.2.2)\n",
            "Requirement already satisfied: filelock<4.0.0,>=3.13.1 in /usr/local/lib/python3.11/dist-packages (from together) (3.18.0)\n",
            "Requirement already satisfied: numpy>=1.23.5 in /usr/local/lib/python3.11/dist-packages (from together) (2.0.2)\n",
            "Requirement already satisfied: pillow<12.0.0,>=11.1.0 in /usr/local/lib/python3.11/dist-packages (from together) (11.2.1)\n",
            "Requirement already satisfied: pydantic<3.0.0,>=2.6.3 in /usr/local/lib/python3.11/dist-packages (from together) (2.11.7)\n",
            "Requirement already satisfied: requests<3.0.0,>=2.31.0 in /usr/local/lib/python3.11/dist-packages (from together) (2.32.3)\n",
            "Requirement already satisfied: rich<15.0.0,>=13.8.1 in /usr/local/lib/python3.11/dist-packages (from together) (13.9.4)\n",
            "Requirement already satisfied: tabulate<0.10.0,>=0.9.0 in /usr/local/lib/python3.11/dist-packages (from together) (0.9.0)\n",
            "Requirement already satisfied: tqdm<5.0.0,>=4.66.2 in /usr/local/lib/python3.11/dist-packages (from together) (4.67.1)\n",
            "Requirement already satisfied: typer<0.16,>=0.9 in /usr/local/lib/python3.11/dist-packages (from together) (0.15.4)\n",
            "Requirement already satisfied: aiohappyeyeballs>=2.3.0 in /usr/local/lib/python3.11/dist-packages (from aiohttp<4.0.0,>=3.9.3->together) (2.6.1)\n",
            "Requirement already satisfied: aiosignal>=1.1.2 in /usr/local/lib/python3.11/dist-packages (from aiohttp<4.0.0,>=3.9.3->together) (1.4.0)\n",
            "Requirement already satisfied: attrs>=17.3.0 in /usr/local/lib/python3.11/dist-packages (from aiohttp<4.0.0,>=3.9.3->together) (25.3.0)\n",
            "Requirement already satisfied: frozenlist>=1.1.1 in /usr/local/lib/python3.11/dist-packages (from aiohttp<4.0.0,>=3.9.3->together) (1.7.0)\n",
            "Requirement already satisfied: multidict<7.0,>=4.5 in /usr/local/lib/python3.11/dist-packages (from aiohttp<4.0.0,>=3.9.3->together) (6.6.3)\n",
            "Requirement already satisfied: propcache>=0.2.0 in /usr/local/lib/python3.11/dist-packages (from aiohttp<4.0.0,>=3.9.3->together) (0.3.2)\n",
            "Requirement already satisfied: yarl<2.0,>=1.17.0 in /usr/local/lib/python3.11/dist-packages (from aiohttp<4.0.0,>=3.9.3->together) (1.20.1)\n",
            "Requirement already satisfied: annotated-types>=0.6.0 in /usr/local/lib/python3.11/dist-packages (from pydantic<3.0.0,>=2.6.3->together) (0.7.0)\n",
            "Requirement already satisfied: pydantic-core==2.33.2 in /usr/local/lib/python3.11/dist-packages (from pydantic<3.0.0,>=2.6.3->together) (2.33.2)\n",
            "Requirement already satisfied: typing-extensions>=4.12.2 in /usr/local/lib/python3.11/dist-packages (from pydantic<3.0.0,>=2.6.3->together) (4.14.1)\n",
            "Requirement already satisfied: typing-inspection>=0.4.0 in /usr/local/lib/python3.11/dist-packages (from pydantic<3.0.0,>=2.6.3->together) (0.4.1)\n",
            "Requirement already satisfied: charset-normalizer<4,>=2 in /usr/local/lib/python3.11/dist-packages (from requests<3.0.0,>=2.31.0->together) (3.4.2)\n",
            "Requirement already satisfied: idna<4,>=2.5 in /usr/local/lib/python3.11/dist-packages (from requests<3.0.0,>=2.31.0->together) (3.10)\n",
            "Requirement already satisfied: urllib3<3,>=1.21.1 in /usr/local/lib/python3.11/dist-packages (from requests<3.0.0,>=2.31.0->together) (2.4.0)\n",
            "Requirement already satisfied: certifi>=2017.4.17 in /usr/local/lib/python3.11/dist-packages (from requests<3.0.0,>=2.31.0->together) (2025.7.14)\n",
            "Requirement already satisfied: markdown-it-py>=2.2.0 in /usr/local/lib/python3.11/dist-packages (from rich<15.0.0,>=13.8.1->together) (3.0.0)\n",
            "Requirement already satisfied: pygments<3.0.0,>=2.13.0 in /usr/local/lib/python3.11/dist-packages (from rich<15.0.0,>=13.8.1->together) (2.19.2)\n",
            "Requirement already satisfied: shellingham>=1.3.0 in /usr/local/lib/python3.11/dist-packages (from typer<0.16,>=0.9->together) (1.5.4)\n",
            "Requirement already satisfied: mdurl~=0.1 in /usr/local/lib/python3.11/dist-packages (from markdown-it-py>=2.2.0->rich<15.0.0,>=13.8.1->together) (0.1.2)\n",
            "Requirement already satisfied: textblob in /usr/local/lib/python3.11/dist-packages (0.19.0)\n",
            "Requirement already satisfied: matplotlib in /usr/local/lib/python3.11/dist-packages (3.10.0)\n",
            "Requirement already satisfied: seaborn in /usr/local/lib/python3.11/dist-packages (0.13.2)\n",
            "Requirement already satisfied: nltk>=3.9 in /usr/local/lib/python3.11/dist-packages (from textblob) (3.9.1)\n",
            "Requirement already satisfied: contourpy>=1.0.1 in /usr/local/lib/python3.11/dist-packages (from matplotlib) (1.3.2)\n",
            "Requirement already satisfied: cycler>=0.10 in /usr/local/lib/python3.11/dist-packages (from matplotlib) (0.12.1)\n",
            "Requirement already satisfied: fonttools>=4.22.0 in /usr/local/lib/python3.11/dist-packages (from matplotlib) (4.58.5)\n",
            "Requirement already satisfied: kiwisolver>=1.3.1 in /usr/local/lib/python3.11/dist-packages (from matplotlib) (1.4.8)\n",
            "Requirement already satisfied: numpy>=1.23 in /usr/local/lib/python3.11/dist-packages (from matplotlib) (2.0.2)\n",
            "Requirement already satisfied: packaging>=20.0 in /usr/local/lib/python3.11/dist-packages (from matplotlib) (25.0)\n",
            "Requirement already satisfied: pillow>=8 in /usr/local/lib/python3.11/dist-packages (from matplotlib) (11.2.1)\n",
            "Requirement already satisfied: pyparsing>=2.3.1 in /usr/local/lib/python3.11/dist-packages (from matplotlib) (3.2.3)\n",
            "Requirement already satisfied: python-dateutil>=2.7 in /usr/local/lib/python3.11/dist-packages (from matplotlib) (2.9.0.post0)\n",
            "Requirement already satisfied: pandas>=1.2 in /usr/local/lib/python3.11/dist-packages (from seaborn) (2.2.2)\n",
            "Requirement already satisfied: click in /usr/local/lib/python3.11/dist-packages (from nltk>=3.9->textblob) (8.1.8)\n",
            "Requirement already satisfied: joblib in /usr/local/lib/python3.11/dist-packages (from nltk>=3.9->textblob) (1.5.1)\n",
            "Requirement already satisfied: regex>=2021.8.3 in /usr/local/lib/python3.11/dist-packages (from nltk>=3.9->textblob) (2024.11.6)\n",
            "Requirement already satisfied: tqdm in /usr/local/lib/python3.11/dist-packages (from nltk>=3.9->textblob) (4.67.1)\n",
            "Requirement already satisfied: pytz>=2020.1 in /usr/local/lib/python3.11/dist-packages (from pandas>=1.2->seaborn) (2025.2)\n",
            "Requirement already satisfied: tzdata>=2022.7 in /usr/local/lib/python3.11/dist-packages (from pandas>=1.2->seaborn) (2025.2)\n",
            "Requirement already satisfied: six>=1.5 in /usr/local/lib/python3.11/dist-packages (from python-dateutil>=2.7->matplotlib) (1.17.0)\n"
          ]
        }
      ],
      "source": [
        "!pip install together\n",
        "!pip install textblob matplotlib seaborn\n"
      ]
    },
    {
      "cell_type": "code",
      "source": [
        "import together\n",
        "together.api_key = \"e798fcd4b207006e77abbff6019c124eec06d800a1d141cb7f643f49fec45bb3\"\n",
        "import re\n",
        "from textblob import TextBlob\n",
        "import matplotlib.pyplot as plt\n",
        "import seaborn as sns\n",
        "import pandas as pd\n"
      ],
      "metadata": {
        "id": "RWhywvKvbUiu"
      },
      "execution_count": 23,
      "outputs": []
    },
    {
      "cell_type": "code",
      "source": [
        "movie_plot = \"\"\"An educated dancer, raised in Manama, Bahrain finds herself in an arranged marriage to a teacher in a very traditional and patriarchal family. While the domestic routine of the Wife begins in the sweet bliss of a new marriage, things begin to go south. The drudgery of the kitchen and its many unpleasantries—cleaning, filthy utensils and leaking taps—are left to the women while the men mostly indulge themselves with their phone or yoga. The family is so patriarchal that her mother-in-law hands his toothbrush to the father-in-law, while he is lounging by the verandah. The men eat their meals first and leave the place a mess without concern for how the women can eat food after them. Their convenience and comfort always come before consideration for their wives. While the new bride takes a while to adjust to these new surroundings and eventually somewhat makes peace with them, her mother-in-law goes to take care of her daughter, who is seven months pregnant.\n",
        "\n",
        "The whole responsibility of cooking, cleaning and other household chores falls on her. Her egotistical husband is inconsiderate of her needs and feelings. When she tells him that it hurts when having sex and asks for some foreplay, he remarks she seems to know everything on the topic and condescendingly tells her he should be attracted to her for foreplay, making her cry herself to sleep.\n",
        "\n",
        "Her father-in-law forbids her from finding employment, citing that a woman in the house brings prosperity to the family. When she gets her period, she is appalled to discover that the family's beliefs regarding menstruation are extremely regressive. She is asked to hole herself up all alone on the floor in a room, bathe in the river, eat separately and wash all the things she touches. She is even asked to go stay with a relative or to sleep outside during those days.\n",
        "\n",
        "While these events transpire, Kerala is grappling with the Sabarimala temple verdict, where the courts decided that menstruation is not an impurity and so women should be allowed to visit the temple. Many people, including her husband's family, do not approve of the verdict.\n",
        "\n",
        "All these injustices boil over one day and end up with the wife throwing murky kitchen sink water on her husband and father-in-law and leaving the family for her freedom and dignity. The film ends with a scene showing her as an independent dance teacher arriving in her own car while her ex-husband is married again and the second wife seems to meet the first one's fate.\"\"\"\n",
        "prompt_text = f\"\"\"\n",
        "You are a helpful assistant trained to identify bias, emotional tone, and stereotypes in language.\n",
        "\n",
        "Task:\n",
        "1. Analyze the following paragraph for gender bias, stereotypes, emotional imbalance, and discriminatory language.\n",
        "2. Summarize the paragraph in a fair and neutral tone.\n",
        "3. Rewrite the entire paragraph in a way that removes all bias, maintains the original intent, and promotes inclusivity.\n",
        "\n",
        "Movie_plot:\n",
        "\\\"\\\"\\\"{movie_plot}\\\"\\\"\\\"\n",
        "\n",
        "Return your response in the following format:\n",
        "- Analysed summary:\n",
        "- Rewrite the following movie plot paragraph-by-paragraph, preserving its original length, detail, and narrative flow. Do not shorten it. Do not skip any paragraph:\"\"\"\n"
      ],
      "metadata": {
        "id": "jSv3cVDgbc2-"
      },
      "execution_count": 53,
      "outputs": []
    },
    {
      "cell_type": "code",
      "source": [
        "response = together.Complete.create(\n",
        "    model = \"mistralai/Mixtral-8x7B-Instruct-v0.1\",\n",
        "    prompt = prompt_text,\n",
        "    max_tokens = 30000,\n",
        "    temperature = 0.7,\n",
        "    top_p = 0.9,\n",
        "    repetition_penalty = 1.1\n",
        ")\n"
      ],
      "metadata": {
        "colab": {
          "base_uri": "https://localhost:8080/"
        },
        "id": "tPupeGQ9bglv",
        "outputId": "378f4796-be43-4fa4-9c47-e91405e0e766"
      },
      "execution_count": 54,
      "outputs": [
        {
          "output_type": "stream",
          "name": "stderr",
          "text": [
            "/tmp/ipython-input-54-2893090068.py:1: DeprecationWarning: Call to deprecated function create.\n",
            "  response = together.Complete.create(\n"
          ]
        }
      ]
    },
    {
      "cell_type": "code",
      "source": [
        "output = response['choices'][0]['text']\n",
        "print(output.strip())\n"
      ],
      "metadata": {
        "colab": {
          "base_uri": "https://localhost:8080/"
        },
        "id": "zzmgGyIDcFKF",
        "outputId": "694f05bb-9682-400e-ccb4-75e48aeebe18"
      },
      "execution_count": 55,
      "outputs": [
        {
          "output_type": "stream",
          "name": "stdout",
          "text": [
            "Analysed summary:\n",
            "The movie plot portrays various forms of gender discrimination, patriarchy, and cultural regression towards women within a traditional family setting. It highlights the unequal division of labor, sexual entitlement, and lack of respect for women's choices and physical autonomy. The story also underlines societal prejudice against menstruating women, illustrated through the character's experiences. Emotional manipulation is evident throughout the text, particularly through the husband's condescending remarks and actions.\n",
            "\n",
            "Rewrite the following movie plot paragraph-by-paragraph:\n",
            "A highly skilled dancer, nurtured in Manama, Bahrain, enters into a prearranged union with a school instructor belonging to a deeply conservative and male-dominated household. At first, the spouse revels in the delightful novelty of marital life; however, this early euphoria soon fades. The arduous tasks associated with maintaining the home - such as washing dishes, dealing with leaky faucets, and tidying up - primarily fall upon the female members, whereas the males engage in recreational activities like using their mobile devices or practicing yoga. This rigid adherence to patriarchal customs extends to instances where the matriarch hands the patriarch his toothbrush while he relaxes by the porch. Mealtimes reflect a similar pattern, with the men serving themselves first and departing without regard for the females consuming food afterward. Despite the newcomer initially struggling to adapt to these unfamiliar circumstances, she gradually reconciles herself to this environment. Concurrently, her mother-in-law assumes responsibility for caring for their grandchild, who is seven months pregnant.\n",
            "\n",
            "As time progresses, the burden of preparing meals, managing the household, and performing other related duties devolves entirely onto her. Regrettably, her self-absorbed partner remains indifferent to her wellbeing and concerns. During intimate moments, she communicates her discomfort and requests gentle caresses, only to receive disparaging comments suggesting that she possesses extensive knowledge about such matters. These unkind words prompt her to weep silently throughout the night.\n",
            "\n",
            "The senior male member prohibits her from pursuing career opportunities, asserting that the presence of a woman within the household fosters prosperity. Upon realizing that she has started menstruating, she encounters shocking cultural practices surrounding menstruation. She is instructed to isolate herself in a separate room, cleanse herself in the nearby river, consume sustenance independently, and launder every item she contacts. Alternatively, she could relocate to a relative's residence or reside outside temporarily during this phase.\n",
            "\n",
            "Simultaneously, Kerala confronts controversy regarding the Sabarimala temple ruling, which declares that menstruation does not constitute impurity and thus women should be permitted entry. Numerous individuals, among them her spouse's kin, express disapproval towards this decision.\n",
            "\n",
            "Ultimately, the protagonist decides to rebel against these inequities by splashing dirty kitchen water onto both her husband and father-in-law before departing to reclaim her independence and self-respect. In the concluding scene, she appears confident and autonomous, teaching dance lessons and driving her personal vehicle, while her former spouse has already entered a new marriage, and the succeeding wife seems destined to follow a comparable trajectory.\n"
          ]
        }
      ]
    }
  ]
}